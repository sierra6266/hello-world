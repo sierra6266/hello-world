{
  "nbformat": 4,
  "nbformat_minor": 0,
  "metadata": {
    "colab": {
      "name": "Copy of Copy of HackHer Covid Data Analysis Workshop.ipynb",
      "provenance": [],
      "collapsed_sections": [],
      "include_colab_link": true
    },
    "kernelspec": {
      "name": "python3",
      "display_name": "Python 3"
    }
  },
  "cells": [
    {
      "cell_type": "markdown",
      "metadata": {
        "id": "view-in-github",
        "colab_type": "text"
      },
      "source": [
        "<a href=\"https://colab.research.google.com/github/sierra6266/hello-world/blob/master/HackHer_Covid_Data_Analysis_Workshop.ipynb\" target=\"_parent\"><img src=\"https://colab.research.google.com/assets/colab-badge.svg\" alt=\"Open In Colab\"/></a>"
      ]
    },
    {
      "cell_type": "markdown",
      "metadata": {
        "id": "2sLGhaJHDnbR"
      },
      "source": [
        "# Queen's HackHer Hackathon Workshop\n",
        "## Presented by Kinaxis\n",
        "\n",
        "Covid 19 notbook Pandas and Data Visualization\n",
        "\n",
        "References: \n",
        "\n",
        "https://www.kaggle.com/learn/pandas \n",
        "\n",
        "https://www.kaggle.com/sudalairajkumar/novel-corona-virus-2019-dataset\n",
        "\n",
        "https://www.kaggle.com/therealcyberlord/coronavirus-covid-19-visualization-prediction/notebook\n"
      ]
    },
    {
      "cell_type": "code",
      "metadata": {
        "id": "NWrMu4Ul9_Fu"
      },
      "source": [
        "import numpy as np \n",
        "import matplotlib.pyplot as plt \n",
        "import matplotlib.colors as mcolors\n",
        "import pandas as pd \n",
        "import random\n",
        "import math\n",
        "import time\n",
        "from sklearn.linear_model import LinearRegression, BayesianRidge\n",
        "from sklearn.model_selection import RandomizedSearchCV, train_test_split\n",
        "from sklearn.preprocessing import PolynomialFeatures\n",
        "from sklearn.svm import SVR\n",
        "from sklearn.metrics import mean_squared_error, mean_absolute_error\n",
        "import datetime\n",
        "import operator \n",
        "plt.style.use('fivethirtyeight')\n",
        "%matplotlib inline\n",
        "import warnings\n",
        "warnings.filterwarnings(\"ignore\")"
      ],
      "execution_count": null,
      "outputs": []
    },
    {
      "cell_type": "markdown",
      "metadata": {
        "id": "qFq7OT3JFzwM"
      },
      "source": [
        "Firstly, we need to read the data in from a csv file."
      ]
    },
    {
      "cell_type": "code",
      "metadata": {
        "id": "oYHGFAr7-dZR"
      },
      "source": [
        "confirmed_df = pd.read_csv('https://raw.githubusercontent.com/CSSEGISandData/COVID-19/master/csse_covid_19_data/csse_covid_19_time_series/time_series_covid19_confirmed_global.csv')\n",
        "deaths_df = pd.read_csv('https://raw.githubusercontent.com/CSSEGISandData/COVID-19/master/csse_covid_19_data/csse_covid_19_time_series/time_series_covid19_deaths_global.csv')\n",
        "recoveries_df = pd.read_csv('https://raw.githubusercontent.com/CSSEGISandData/COVID-19/master/csse_covid_19_data/csse_covid_19_time_series/time_series_covid19_recovered_global.csv')\n",
        "latest_data = pd.read_csv('https://raw.githubusercontent.com/CSSEGISandData/COVID-19/master/csse_covid_19_data/csse_covid_19_daily_reports/10-07-2020.csv')\n",
        "us_medical_data = pd.read_csv('https://raw.githubusercontent.com/CSSEGISandData/COVID-19/master/csse_covid_19_data/csse_covid_19_daily_reports_us/10-07-2020.csv')"
      ],
      "execution_count": null,
      "outputs": []
    },
    {
      "cell_type": "markdown",
      "metadata": {
        "id": "9t73vCEb_C72"
      },
      "source": [
        "In pandas you can use head() to show a preview of what's in the dataframe. We're interested in the confirmed_df dataframe. This tells us how many confirmed Covid-19 cases there are in each region by date.\n",
        "\n"
      ]
    },
    {
      "cell_type": "code",
      "metadata": {
        "id": "DivKpU-3-h0I"
      },
      "source": [
        "confirmed_df.head()"
      ],
      "execution_count": null,
      "outputs": []
    },
    {
      "cell_type": "markdown",
      "metadata": {
        "id": "jS02SqCXc8n0"
      },
      "source": [
        "To get a quick overview of what the data contains in the dataframe, the pandas **describe** function can be used, to output many different summary statistics, including:\n",
        "\n",
        "\n",
        "*   count: number of non null values\n",
        "*   mean, min, max: mean, min and max value of the column\n",
        "*   std: the standard deviation of the column\n",
        "*   quantiles: 25%, 50% (i.e. the median), 75%\n",
        "\n",
        "Note, this function only outputs statistics on columns with numeric values.\n",
        "\n",
        "Some insights we can quickly gain from this for example, is that for the first few dates, most columns are over 75% zeros.\n"
      ]
    },
    {
      "cell_type": "code",
      "metadata": {
        "id": "8a7WWVTnc680"
      },
      "source": [
        "confirmed_df.describe()"
      ],
      "execution_count": null,
      "outputs": []
    },
    {
      "cell_type": "markdown",
      "metadata": {
        "id": "ryExrx_045t6"
      },
      "source": [
        "## Visualizing Confirmed cases as a line graph\n",
        " This section will go over how to format the data and build a graph."
      ]
    },
    {
      "cell_type": "markdown",
      "metadata": {
        "id": "LceVNjkQKKyF"
      },
      "source": [
        "With a pandas dataframe, we can select specific rows and columns by using the **.loc** function."
      ]
    },
    {
      "cell_type": "code",
      "metadata": {
        "id": "9c1Q7YIdJwKG"
      },
      "source": [
        "# Select the first row and the column of \"Country/Region\"\n",
        "confirmed_df.loc[0,'Country/Region']"
      ],
      "execution_count": null,
      "outputs": []
    },
    {
      "cell_type": "code",
      "metadata": {
        "id": "2TDl5S8AKmnC"
      },
      "source": [
        "# if you want to select an entire column, we can use the : operator\n",
        "confirmed_df.loc[:,'Country/Region']"
      ],
      "execution_count": null,
      "outputs": []
    },
    {
      "cell_type": "code",
      "metadata": {
        "id": "Ir1EBNtNLYG_"
      },
      "source": [
        "# if you want to select by index instead of column name, use .iloc\n",
        "confirmed_df.iloc[:, 1]"
      ],
      "execution_count": null,
      "outputs": []
    },
    {
      "cell_type": "markdown",
      "metadata": {
        "id": "OypPfdnrGp-O"
      },
      "source": [
        "Now we want to select the dates. See how the first 4 columns are not dates? We can use pandas **.iloc** function to select all the columns after the 4th one.\n",
        "\n"
      ]
    },
    {
      "cell_type": "code",
      "metadata": {
        "id": "G7yrN-CUANam"
      },
      "source": [
        "# keys() will give us a list of all the column headers\n",
        "cols = confirmed_df.keys()\n",
        "# We want to select all the rows but only all the columns after the 4th\n",
        "confirmed = confirmed_df.iloc[:, 4:]\n",
        "dates = confirmed.keys()\n",
        "# This will print out all the dates\n",
        "dates"
      ],
      "execution_count": null,
      "outputs": []
    },
    {
      "cell_type": "markdown",
      "metadata": {
        "id": "jcyDmB4oO6wl"
      },
      "source": [
        "We want to plot the graph based on days since the first date. We can use a **list comprehension** to do this."
      ]
    },
    {
      "cell_type": "code",
      "metadata": {
        "id": "cQGQmlNmPFKy"
      },
      "source": [
        "# Create a list of the numbers from 0 to 10\n",
        "[x for x in range(10)]"
      ],
      "execution_count": null,
      "outputs": []
    },
    {
      "cell_type": "code",
      "metadata": {
        "id": "Zqm_0k86OjOS"
      },
      "source": [
        "# Create a list of the number of days based on the length of how many dates we have\n",
        "days_since = np.array([i for i in range(len(dates))])"
      ],
      "execution_count": null,
      "outputs": []
    },
    {
      "cell_type": "markdown",
      "metadata": {
        "id": "yhR81MJsQliB"
      },
      "source": [
        "Now we want to sum up the number of confirmed cases worldwide."
      ]
    },
    {
      "cell_type": "code",
      "metadata": {
        "id": "8qRN5DzYAfKs"
      },
      "source": [
        "world_cases = []\n",
        "\n",
        "for i in dates:\n",
        "  confirmed_sum = confirmed[i].sum()\n",
        "  world_cases.append(confirmed_sum)"
      ],
      "execution_count": null,
      "outputs": []
    },
    {
      "cell_type": "markdown",
      "metadata": {
        "id": "kuluV9_BR6kL"
      },
      "source": [
        "We are going to use matplotlib to graph our results."
      ]
    },
    {
      "cell_type": "code",
      "metadata": {
        "id": "9qGzMdz_AA8N"
      },
      "source": [
        "plt.figure(figsize=(16, 10))\n",
        "# .plot creates a line chart with parameters x and y\n",
        "plt.plot(days_since, world_cases)\n",
        "plt.title('# of Coronavirus Cases Over Time', size=30)\n",
        "plt.xlabel('Days Since 1/22/2020', size=30)\n",
        "plt.ylabel('# of Cases', size=30)\n",
        "plt.legend(['Worldwide Coronavirus Cases'], prop={'size': 20})\n",
        "plt.xticks(size=20)\n",
        "plt.yticks(size=20)\n",
        "plt.show()"
      ],
      "execution_count": null,
      "outputs": []
    },
    {
      "cell_type": "markdown",
      "metadata": {
        "id": "lnevx5GBEA6_"
      },
      "source": [
        "## Challenge 1\n",
        "\n",
        "Plot the total number of deaths over time\n",
        "\n",
        "Hint: use the deaths_df and .iloc in the same way we did for confirmed_df\n"
      ]
    },
    {
      "cell_type": "markdown",
      "metadata": {
        "id": "jv2ESfbpFVpJ"
      },
      "source": [
        "### Your Solution Here"
      ]
    },
    {
      "cell_type": "code",
      "metadata": {
        "id": "dn2PcM1cAth_"
      },
      "source": [
        "# Count the deaths\n",
        "\n",
        "# Plot the graph"
      ],
      "execution_count": null,
      "outputs": []
    },
    {
      "cell_type": "markdown",
      "metadata": {
        "id": "wLpjE5pK5ZYq"
      },
      "source": [
        "## Visualizing Confirmed Cases by country as a pie chart\n",
        "\n",
        "This section will go over how to group data by country and build a pie chart."
      ]
    },
    {
      "cell_type": "markdown",
      "metadata": {
        "id": "sh_3iPzF6i-S"
      },
      "source": [
        "This time  we're interested in the latest_data dataframe. This tells us the current status of Covid-19 cases in each country."
      ]
    },
    {
      "cell_type": "code",
      "metadata": {
        "id": "iJavZFET6nko"
      },
      "source": [
        "latest_data.head()"
      ],
      "execution_count": null,
      "outputs": []
    },
    {
      "cell_type": "markdown",
      "metadata": {
        "id": "CeyVctSN6RHu"
      },
      "source": [
        "In pandas we can use the **unique()** function to get all the unique values for a column"
      ]
    },
    {
      "cell_type": "code",
      "metadata": {
        "id": "SpeCrWxB6XO-"
      },
      "source": [
        "latest_data['Country_Region'].unique()"
      ],
      "execution_count": null,
      "outputs": []
    },
    {
      "cell_type": "markdown",
      "metadata": {
        "id": "IneW0sGI8DFN"
      },
      "source": [
        "In pandas, we can get all the rows where a column value fits some criteria using comparison operators. Some comparison operators are: be greater than (>), less than (<) or equal to (==)."
      ]
    },
    {
      "cell_type": "code",
      "metadata": {
        "id": "JhOlquVy77hq"
      },
      "source": [
        "# All rows where country is Canada\n",
        "latest_data[latest_data['Country_Region']=='Canada']"
      ],
      "execution_count": null,
      "outputs": []
    },
    {
      "cell_type": "code",
      "metadata": {
        "id": "bP6kGxRA8ita"
      },
      "source": [
        "# all rows where the number of confirmed cases is greater than 500 000\n",
        "latest_data[latest_data['Confirmed'] > 500000]"
      ],
      "execution_count": null,
      "outputs": []
    },
    {
      "cell_type": "markdown",
      "metadata": {
        "id": "sQzp5FCz7qwS"
      },
      "source": [
        "Now we are going to iterate over each country and sum up the number of confirmed cases."
      ]
    },
    {
      "cell_type": "code",
      "metadata": {
        "id": "AdDPX8f6-FKk"
      },
      "source": [
        "unique_countries =  list(latest_data['Country_Region'].unique())\n",
        "country_confirmed_cases = []\n",
        "\n",
        "no_cases = []\n",
        "for i in unique_countries:\n",
        "    cases = latest_data[latest_data['Country_Region']==i]['Confirmed'].sum()\n",
        "    if cases > 0:\n",
        "        country_confirmed_cases.append(cases)\n",
        "    else:\n",
        "        no_cases.append(i)\n",
        "\n",
        "# Here we remove the countries with no cases to make the graph look cleaner        \n",
        "for i in no_cases:\n",
        "    unique_countries.remove(i)\n"
      ],
      "execution_count": null,
      "outputs": []
    },
    {
      "cell_type": "markdown",
      "metadata": {
        "id": "OpDQGtlH9VnT"
      },
      "source": [
        "Tip! In python we can use **zip** to pair up two lists of data"
      ]
    },
    {
      "cell_type": "code",
      "metadata": {
        "id": "peXCiWbw9edE"
      },
      "source": [
        "a = [2,1,3]\n",
        "b = ['z','y','x']\n",
        "c = list(zip(a,b))\n",
        "print(c)"
      ],
      "execution_count": null,
      "outputs": []
    },
    {
      "cell_type": "markdown",
      "metadata": {
        "id": "frgpWuBf9xZ4"
      },
      "source": [
        "Another tip! In python we can use **sorted** to sort a list. Since we are sorting on a zipped list, we want to specify which item to sort on.\n"
      ]
    },
    {
      "cell_type": "code",
      "metadata": {
        "id": "8qh2rDlX93C7"
      },
      "source": [
        "# sort numerically based on the numbers at index 0\n",
        "print(sorted(c,key=operator.itemgetter(0)))\n",
        "# sort alphabetically based on the letters at index 1\n",
        "print(sorted(c, key=operator.itemgetter(1)))"
      ],
      "execution_count": null,
      "outputs": []
    },
    {
      "cell_type": "code",
      "metadata": {
        "id": "VSHHaNu79S4F"
      },
      "source": [
        "# sort countries by the number of confirmed cases\n",
        "# We sort in descending order by using reverse = True\n",
        "unique_countries = [k for k, v in sorted(zip(unique_countries, country_confirmed_cases), key=operator.itemgetter(1), reverse=True)]\n",
        "for i in range(len(unique_countries)):\n",
        "    country_confirmed_cases[i] = latest_data[latest_data['Country_Region']==unique_countries[i]]['Confirmed'].sum()"
      ],
      "execution_count": null,
      "outputs": []
    },
    {
      "cell_type": "markdown",
      "metadata": {
        "id": "lXav-S9JAdK5"
      },
      "source": [
        "There are too many countries to show in one chart clearly, so let's take the top ten, and put the others into a category called Other\n"
      ]
    },
    {
      "cell_type": "code",
      "metadata": {
        "id": "AkFyVcM_9x70"
      },
      "source": [
        "# Only show 10 countries with the most confirmed cases, the rest are grouped into the other category\n",
        "visual_unique_countries = [] # Names of countries\n",
        "visual_confirmed_cases = [] # Numbers of cases\n",
        "others = np.sum(country_confirmed_cases[10:])\n",
        "\n",
        "for i in range(len(country_confirmed_cases[:10])):\n",
        "    visual_unique_countries.append(unique_countries[i])\n",
        "    visual_confirmed_cases.append(country_confirmed_cases[i])\n",
        "    \n",
        "visual_unique_countries.append('Others')\n",
        "visual_confirmed_cases.append(others)"
      ],
      "execution_count": null,
      "outputs": []
    },
    {
      "cell_type": "markdown",
      "metadata": {
        "id": "kSfZEP0EAVVu"
      },
      "source": [
        "Now we're ready to plot our pie chart. In matplotlib, we use the function pie()"
      ]
    },
    {
      "cell_type": "code",
      "metadata": {
        "id": "01IhJt175uN6"
      },
      "source": [
        "def plot_pie_charts(x, y, title):\n",
        "    # Have fun picking colours :)\n",
        "    c = ['lightcoral', 'rosybrown', 'sandybrown', 'navajowhite', 'gold',\n",
        "        'khaki', 'lightskyblue', 'turquoise', 'lightslategrey', 'thistle', 'pink']\n",
        "    plt.figure(figsize=(20,15))\n",
        "    plt.title(title, size=20)\n",
        "    plt.pie(y, colors=c,shadow=True, labels=y)\n",
        "    plt.legend(x, loc='best', fontsize=12)\n",
        "    plt.show()"
      ],
      "execution_count": null,
      "outputs": []
    },
    {
      "cell_type": "code",
      "metadata": {
        "id": "nam-X6uz9PZl"
      },
      "source": [
        "plot_pie_charts(visual_unique_countries, visual_confirmed_cases, 'Covid-19 Confirmed Cases per Country')"
      ],
      "execution_count": null,
      "outputs": []
    },
    {
      "cell_type": "markdown",
      "metadata": {
        "id": "3ZCY_BZm-m9M"
      },
      "source": [
        "## Challenge 2\n",
        "Create a pie chart for confirmed cases in Canada (or the country of your choosing) grouped by province or state.\n",
        "\n",
        "Hint: Look at the cell that does this for countries\n",
        "\n",
        "Hint 2: Use the latest_data df and the column 'Province_State'"
      ]
    },
    {
      "cell_type": "markdown",
      "metadata": {
        "id": "gAE80m7GDnD_"
      },
      "source": [
        "### Your Solution Here\n"
      ]
    },
    {
      "cell_type": "code",
      "metadata": {
        "id": "r6rfrd9f-88R"
      },
      "source": [
        "# Get the regions for your country\n",
        "\n",
        "# Count the cases per region\n",
        "\n",
        "# Plot the graph"
      ],
      "execution_count": null,
      "outputs": []
    },
    {
      "cell_type": "markdown",
      "metadata": {
        "id": "Nghv9-hWBEmG"
      },
      "source": [
        "## Final Challenge\n",
        "\n"
      ]
    },
    {
      "cell_type": "markdown",
      "metadata": {
        "id": "DQCX3k-TJdYe"
      },
      "source": [
        "Now is your chance to be creative. Come up with an insightful visualization for any part of this Covid-19 data. you may use what you've just learned, or any library you'd like! Have fun!"
      ]
    },
    {
      "cell_type": "markdown",
      "metadata": {
        "id": "XhzsTVp-BQ3B"
      },
      "source": [
        "### Your creative solution here"
      ]
    },
    {
      "cell_type": "code",
      "metadata": {
        "id": "K5b5xgoXBO2e"
      },
      "source": [
        "# Show us what you can come up with"
      ],
      "execution_count": null,
      "outputs": []
    }
  ]
}